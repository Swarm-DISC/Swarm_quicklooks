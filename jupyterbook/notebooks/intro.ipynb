{
 "cells": [
  {
   "cell_type": "code",
   "execution_count": 1,
   "id": "b1c75e0e-99f4-4bd9-8137-3b7860f225c9",
   "metadata": {
    "execution": {
     "iopub.execute_input": "2023-10-24T15:08:21.413058Z",
     "iopub.status.busy": "2023-10-24T15:08:21.412731Z",
     "iopub.status.idle": "2023-10-24T15:08:22.906560Z",
     "shell.execute_reply": "2023-10-24T15:08:22.905500Z"
    }
   },
   "outputs": [
    {
     "name": "stdout",
     "output_type": "stream",
     "text": [
      "Python implementation: CPython\n",
      "Python version       : 3.11.6\n",
      "IPython version      : 8.16.1\n",
      "\n",
      "swarmpal   : 0.1.0\n",
      "viresclient: 0.11.3\n",
      "cdflib     : 1.2.3\n",
      "pandas     : 2.1.1\n",
      "xarray     : 2023.10.1\n",
      "matplotlib : 3.8.0\n",
      "cartopy    : 0.22.0\n",
      "\n"
     ]
    }
   ],
   "source": [
    "%load_ext watermark\n",
    "%watermark -i -v -p swarmpal,viresclient,cdflib,pandas,xarray,matplotlib,cartopy"
   ]
  }
 ],
 "metadata": {
  "kernelspec": {
   "display_name": "Python [conda env:swarmpal]",
   "language": "python",
   "name": "conda-env-swarmpal-py"
  },
  "language_info": {
   "codemirror_mode": {
    "name": "ipython",
    "version": 3
   },
   "file_extension": ".py",
   "mimetype": "text/x-python",
   "name": "python",
   "nbconvert_exporter": "python",
   "pygments_lexer": "ipython3",
   "version": "3.11.6"
  }
 },
 "nbformat": 4,
 "nbformat_minor": 5
}
