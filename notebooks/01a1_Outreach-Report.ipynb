{
 "cells": [
  {
   "cell_type": "code",
   "execution_count": null,
   "metadata": {},
   "outputs": [],
   "source": [
    "# Standard library\n",
    "import os\n",
    "import urllib\n",
    "import zipfile\n",
    "from tempfile import NamedTemporaryFile\n",
    "import shutil\n",
    "import datetime as dt\n",
    "from ftplib import FTP\n",
    "from time import sleep\n",
    "\n",
    "# Installed packages\n",
    "from viresclient import SwarmRequest\n",
    "import pandas as pd\n",
    "import cdflib\n",
    "import matplotlib.pyplot as plt\n",
    "from matplotlib.dates import DateFormatter\n",
    "import cartopy.crs as ccrs\n",
    "import cartopy.feature as cfeature\n",
    "\n",
    "# Autoreload changes to module utils.py\n",
    "%load_ext autoreload\n",
    "%autoreload 2\n",
    "import utils\n",
    "\n",
    "# Directory to use for outputs\n",
    "os.makedirs(\"output\", exist_ok=True)\n",
    "\n",
    "# Indicate primary package versions to help debugging\n",
    "%load_ext watermark\n",
    "%watermark -i -v -p viresclient,cdflib,eoxmagmod,pandas,xarray,matplotlib,cartopy"
   ]
  },
  {
   "cell_type": "markdown",
   "metadata": {},
   "source": [
    "# 1. Field intensity overview"
   ]
  },
  {
   "cell_type": "code",
   "execution_count": null,
   "metadata": {},
   "outputs": [],
   "source": [
    "# Identify recent 7-day time window to use\n",
    "today = dt.datetime.combine(dt.date.today(), dt.time())\n",
    "three_days_ago = today - dt.timedelta(days=3)\n",
    "ten_days_ago = today - dt.timedelta(days=10)\n",
    "start, end = ten_days_ago, three_days_ago\n",
    "start, end"
   ]
  },
  {
   "cell_type": "code",
   "execution_count": null,
   "metadata": {},
   "outputs": [],
   "source": [
    "# Fetch data\n",
    "request = SwarmRequest()\n",
    "request.set_collection(\"SW_OPER_MAGA_LR_1B\")\n",
    "request.set_products(\n",
    "    measurements=[\"F\"],\n",
    "    sampling_step=\"PT1M\"\n",
    ")\n",
    "request.set_range_filter(\"Flags_F\", 0, 1)\n",
    "data = request.get_between(start, end)\n",
    "ds = data.as_xarray()\n",
    "ds"
   ]
  },
  {
   "cell_type": "code",
   "execution_count": null,
   "metadata": {},
   "outputs": [],
   "source": [
    "# Identify percent of data that is available\n",
    "percent_nominal = 100*len(ds[\"Timestamp\"])/10080\n",
    "percent_nominal"
   ]
  },
  {
   "cell_type": "code",
   "execution_count": null,
   "metadata": {},
   "outputs": [],
   "source": [
    "# Build figure to plot onto\n",
    "fig = plt.figure(figsize=(10, 5))\n",
    "ax_Moll = plt.subplot2grid(\n",
    "    (1, 1), (0, 0), colspan=1,\n",
    "    projection=ccrs.Mollweide()\n",
    ")\n",
    "ax_Moll.add_feature(cfeature.COASTLINE, edgecolor='black', alpha=0.5)\n",
    "\n",
    "# Draw on the measurements\n",
    "ds.plot.scatter(\n",
    "    \"Longitude\", \"Latitude\", \"F\",\n",
    "    ax=ax_Moll, transform=ccrs.PlateCarree(),\n",
    "    s=10, alpha=0.4, marker=\".\",\n",
    "    cmap=\"jet\", norm=plt.Normalize(20e3, 50e3)\n",
    ")\n",
    "\n",
    "# Evaluate model and draw contours\n",
    "coords = utils.grid(height=430)\n",
    "IGRF = utils.eval_model(time=start,coords=coords)\n",
    "utils.plot_contours(\n",
    "    ax_Moll,\n",
    "    coords[..., 1], coords[..., 0], IGRF[\"F\"],\n",
    "    draw_labels=False, linewidths=2, levels=20, alpha=0.5,\n",
    "    cmap=\"jet\", norm=plt.Normalize(20e3, 50e3)\n",
    ")\n",
    "\n",
    "# Prepare descriptive text\n",
    "ID2NAME = {\"A\": \"ALPHA\", \"B\": \"BRAVO\", \"C\": \"CHARLIE\"}\n",
    "spacecraft = ID2NAME.get(ds['Spacecraft'].values[0])\n",
    "spacecraft = f\"SWARM {spacecraft}\"\n",
    "altitude = int(round((ds[\"Radius\"].values[0] - 6371200)/1e3, ndigits=-1))\n",
    "quantity = \"Magnetic field intensity (F) / nanoTesla\"\n",
    "sample_rate = \"1 Minute\"\n",
    "description = f\"\"\"\n",
    "Spacecraft:   {spacecraft} (~{altitude}km altitude)\n",
    "Time period:  {start.strftime('%Y-%m-%d')} to {(end-dt.timedelta(days=1)).strftime('%Y-%m-%d')}\n",
    "Quantity:     {quantity}\n",
    "Downsampling: {sample_rate} (Flags_F: 0-1)\n",
    "[ Dots: Measurements, Contours: Model ]\n",
    "\"\"\".strip()\n",
    "# Place text\n",
    "fig.text(0, 1.05, description, va=\"top\", fontfamily=\"monospace\", fontsize=14);\n",
    "fig.savefig(\"output/intensity.png\", bbox_inches=\"tight\", dpi=150)"
   ]
  },
  {
   "cell_type": "markdown",
   "metadata": {},
   "source": [
    "# 2. Swarm Dst-like index (MMA Fast-track)\n",
    "\n",
    "### Fetch the most recent available MMA_SHA_2F file"
   ]
  },
  {
   "cell_type": "code",
   "execution_count": null,
   "metadata": {},
   "outputs": [],
   "source": [
    "def fetch_zipped_file(url, file_name):\n",
    "    \"\"\"Fetch a given file from within an online zip file\"\"\"\n",
    "    output_file = NamedTemporaryFile()\n",
    "    zip_file, _ = urllib.request.urlretrieve(url)\n",
    "    with zipfile.ZipFile(zip_file, 'r') as zip_ref:\n",
    "        with zip_ref.open(file_name) as f:\n",
    "            shutil.copyfileobj(f, output_file)\n",
    "            output_file.seek(0)\n",
    "    return output_file\n",
    "\n",
    "def fetch_mma_file():\n",
    "    \"\"\"Fetch most recent available MMA_SHA_2F\"\"\"\n",
    "    # List MMA_SHA_2F product files available for current year\n",
    "    host = \"swarm-diss.eo.esa.int\"\n",
    "    file_root = \"/Level2longterm/MMA/SW_OPER_MMA_SHA_2F_\" + \\\n",
    "                f\"{dt.date.today().year}0101T000000_*\"\n",
    "    print(f\"Connecting to: {host}\")\n",
    "    print(f\"Looking for: {file_root}\")\n",
    "    with FTP(host) as ftp:\n",
    "        ftp.login()\n",
    "        files = ftp.nlst(file_root)\n",
    "    # Identify most recent one\n",
    "    files.sort()\n",
    "    matched_file = files[-1]\n",
    "    file_url = \"ftp://\" + host + matched_file\n",
    "    file_name = matched_file.split(\"/\")[-1].split(\".ZIP\")[0] + \".cdf\"\n",
    "    print(f\"Using: {file_url}\")\n",
    "    print(f\"Attempting to extract: {file_name}\")\n",
    "    return fetch_zipped_file(file_url, file_name)\n",
    "\n",
    "def try_x_times(fn, x=3, delay_factor=10):\n",
    "    \"\"\"Attempt function, fn, x times, with increasing delays\"\"\"\n",
    "    for attempt in range(x):\n",
    "        try:\n",
    "            outputs = fn()\n",
    "        except Exception as e:\n",
    "            if attempt < x - 1:\n",
    "                delay = (attempt + 1) * delay_factor\n",
    "                print(f\"Failed ({e}). Trying again in {delay}s...\")\n",
    "                sleep(delay)\n",
    "                continue\n",
    "            else:\n",
    "                raise\n",
    "        return outputs\n",
    "\n",
    "mma_file = try_x_times(fetch_mma_file, x=3, delay_factor=30)"
   ]
  },
  {
   "cell_type": "code",
   "execution_count": null,
   "metadata": {},
   "outputs": [],
   "source": [
    "# Open the file and show contents\n",
    "mma_data = cdflib.CDF(mma_file.name)\n",
    "mma_data.cdf_info()"
   ]
  },
  {
   "cell_type": "code",
   "execution_count": null,
   "metadata": {},
   "outputs": [],
   "source": [
    "time = mma_data.varget('t_gh')[0]\n",
    "gh10 = mma_data.varget('qs_geo')[:, :, 0][0]\n",
    "time, gh10"
   ]
  },
  {
   "cell_type": "code",
   "execution_count": null,
   "metadata": {},
   "outputs": [],
   "source": [
    "# Load as a basic dataframe\n",
    "CDF_EPOCH_1970 = 62167219200000.0\n",
    "time = mma_data.varget('t_gh')[0]\n",
    "df_mma = pd.DataFrame.from_dict({\n",
    "    \"Timestamp\": pd.to_datetime((time - CDF_EPOCH_1970)/1e3, unit=\"s\"),\n",
    "    \"gh_10\": \n",
    "        mma_data.varget('gh_geo')[:, :, 0][0],\n",
    "    \"qs_10\":\n",
    "        mma_data.varget('qs_geo')[:, :, 0][0]\n",
    "}\n",
    ").set_index(\"Timestamp\")\n",
    "df_mma.head()"
   ]
  },
  {
   "cell_type": "code",
   "execution_count": null,
   "metadata": {},
   "outputs": [],
   "source": [
    "fig, axes = plt.subplots(nrows=1, sharex=True, figsize=(10,5))\n",
    "ax = axes\n",
    "\n",
    "df_month = df_mma[(df_mma.index[-1] - dt.timedelta(days=28)):]\n",
    "# df_week  = df_mma[(df_mma.index[-1] - dt.timedelta(days=7)):]\n",
    "df_month[\"qs_10\"].plot(color=\"firebrick\", ax=ax)\n",
    "df_month[\"gh_10\"].plot(color=\"mediumblue\", ax=ax)\n",
    "ax.set_xlim((df_month.index[0], df_month.index[-1]))\n",
    "ax.set_ylim((-20, 100))\n",
    "## why isn't this working?...\n",
    "# ax.xaxis.set_major_formatter(DateFormatter(\"%Y-%m-%d\\n%H:%M:%S\"))\n",
    "ax.grid()\n",
    "ax.set_ylabel(\"MMA_F (q$^1_0$, g$^1_0$) [nT]\");\n",
    "description = f\"\"\"\n",
    "Swarm-derived magnetospheric field estimate (like Dst index)\n",
    "Product: MMA_SHA_2F (fast-track)\n",
    "Time period:  {df_month.index[0].strftime('%Y-%m-%d')} to {df_month.index[-1].strftime('%Y-%m-%d')}\n",
    "\"\"\".strip()\n",
    "# Place text\n",
    "fig.text(0, 0.95, description, va=\"bottom\", fontfamily=\"monospace\", fontsize=14);\n",
    "ax.text((df_mma.index[-1] - dt.timedelta(days=7)), 90, \"← past month \", ha=\"right\", fontsize=14)\n",
    "ax.text((df_mma.index[-1]), 90, \"← past week \", ha=\"right\", fontsize=14)\n",
    "ax.text(df_month.index[0], 83, \" External (primary) field\", color=\"firebrick\", fontsize=14)\n",
    "ax.text(df_month.index[0], 74, \" Internal (induced) field\", color=\"mediumblue\", fontsize=14)\n",
    "ax.axvline(x=df_mma.index[-1] - dt.timedelta(days=7), color=\"black\", ls=\"--\", alpha=0.5)\n",
    "ax.axhline(y=0, color=\"black\", alpha=0.5)\n",
    "fig.savefig(\"output/mma-f.png\", bbox_inches=\"tight\", dpi=150)"
   ]
  }
 ],
 "metadata": {
  "kernelspec": {
   "display_name": "Python 3",
   "language": "python",
   "name": "python3"
  },
  "language_info": {
   "codemirror_mode": {
    "name": "ipython",
    "version": 3
   },
   "file_extension": ".py",
   "mimetype": "text/x-python",
   "name": "python",
   "nbconvert_exporter": "python",
   "pygments_lexer": "ipython3",
   "version": "3.7.6"
  }
 },
 "nbformat": 4,
 "nbformat_minor": 4
}
