{
 "cells": [
  {
   "cell_type": "code",
   "execution_count": null,
   "metadata": {},
   "outputs": [],
   "source": [
    "import datetime as dt\n",
    "from viresclient import SwarmRequest\n",
    "import matplotlib.pyplot as plt\n",
    "import cartopy.crs as ccrs\n",
    "import cartopy.feature as cfeature\n",
    "\n",
    "%load_ext autoreload\n",
    "%autoreload 2\n",
    "import utils"
   ]
  },
  {
   "cell_type": "code",
   "execution_count": null,
   "metadata": {},
   "outputs": [],
   "source": [
    "%load_ext watermark\n",
    "%watermark -i -v -p viresclient,pandas,xarray,matplotlib,cartopy"
   ]
  },
  {
   "cell_type": "code",
   "execution_count": null,
   "metadata": {},
   "outputs": [],
   "source": [
    "# Identify recent 7-day time window to use\n",
    "today = dt.datetime.combine(dt.date.today(), dt.time())\n",
    "three_days_ago = today - dt.timedelta(days=3)\n",
    "ten_days_ago = today - dt.timedelta(days=10)\n",
    "start, end = ten_days_ago, three_days_ago\n",
    "start, end"
   ]
  },
  {
   "cell_type": "code",
   "execution_count": null,
   "metadata": {},
   "outputs": [],
   "source": [
    "# Fetch data\n",
    "request = SwarmRequest()\n",
    "request.set_collection(\"SW_OPER_MAGA_LR_1B\")\n",
    "request.set_products(\n",
    "    measurements=[\"F\"],\n",
    "    sampling_step=\"PT1M\"\n",
    ")\n",
    "data = request.get_between(start, end)\n",
    "ds = data.as_xarray()\n",
    "ds"
   ]
  },
  {
   "cell_type": "code",
   "execution_count": null,
   "metadata": {},
   "outputs": [],
   "source": [
    "# Build figure to plot onto\n",
    "fig = plt.figure(figsize=(10, 5))\n",
    "ax_Moll = plt.subplot2grid(\n",
    "    (1, 1), (0, 0), colspan=1,\n",
    "    projection=ccrs.Mollweide()\n",
    ")\n",
    "ax_Moll.add_feature(cfeature.COASTLINE, edgecolor='black', alpha=0.5)\n",
    "\n",
    "# Draw on the measurements\n",
    "ds.plot.scatter(\n",
    "    \"Longitude\", \"Latitude\", \"F\",\n",
    "    ax=ax_Moll, transform=ccrs.PlateCarree(),\n",
    "    s=10, alpha=0.4, marker=\".\",\n",
    "    cmap=\"jet\", norm=plt.Normalize(20e3, 50e3)\n",
    ")\n",
    "\n",
    "# Evaluate model and draw contours\n",
    "coords = utils.grid(height=430)\n",
    "CHAOS_Core = utils.eval_model(time=start,coords=coords)\n",
    "utils.plot_contours(\n",
    "    ax_Moll,\n",
    "    coords[..., 1], coords[..., 0], CHAOS_Core[\"F\"],\n",
    "    draw_labels=False, linewidths=2, levels=20, alpha=0.5,\n",
    "    cmap=\"jet\", norm=plt.Normalize(20e3, 50e3)\n",
    ")\n",
    "\n",
    "# Prepare descriptive text\n",
    "ID2NAME = {\"A\": \"ALPHA\", \"B\": \"BRAVO\", \"C\": \"CHARLIE\"}\n",
    "spacecraft = ID2NAME.get(ds['Spacecraft'].values[0])\n",
    "spacecraft = f\"SWARM {spacecraft}\"\n",
    "altitude = int(round((ds[\"Radius\"].values[0] - 6371200)/1e3, ndigits=-1))\n",
    "quantity = \"Magnetic field intensity (F)\"\n",
    "sample_rate = \"1 Minute\"\n",
    "description = f\"\"\"\n",
    "Spacecraft:   {spacecraft} (~{altitude}km altitude)\n",
    "Time period:  {start.strftime('%Y-%m-%d')} to {(end-dt.timedelta(days=1)).strftime('%Y-%m-%d')}\n",
    "Quantity:     {quantity}\n",
    "Downsampling: {sample_rate}\n",
    "[Dots: Measurements, Contours: Model, Units: nanoTesla]\n",
    "\"\"\".strip()\n",
    "# Place text\n",
    "fig.text(0, 1.05, description, va=\"top\", fontfamily=\"monospace\", fontsize=12);"
   ]
  }
 ],
 "metadata": {
  "kernelspec": {
   "display_name": "Python 3",
   "language": "python",
   "name": "python3"
  },
  "language_info": {
   "codemirror_mode": {
    "name": "ipython",
    "version": 3
   },
   "file_extension": ".py",
   "mimetype": "text/x-python",
   "name": "python",
   "nbconvert_exporter": "python",
   "pygments_lexer": "ipython3",
   "version": "3.7.6"
  }
 },
 "nbformat": 4,
 "nbformat_minor": 4
}
