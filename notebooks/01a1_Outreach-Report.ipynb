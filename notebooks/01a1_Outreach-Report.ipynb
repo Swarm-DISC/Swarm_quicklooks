{
 "cells": [
  {
   "cell_type": "code",
   "execution_count": null,
   "metadata": {},
   "outputs": [],
   "source": [
    "import urllib\n",
    "import zipfile\n",
    "from tempfile import NamedTemporaryFile\n",
    "import shutil\n",
    "import datetime as dt\n",
    "\n",
    "from viresclient import SwarmRequest\n",
    "import pandas as pd\n",
    "import cdflib\n",
    "import matplotlib.pyplot as plt\n",
    "from matplotlib.dates import DateFormatter\n",
    "import cartopy.crs as ccrs\n",
    "import cartopy.feature as cfeature\n",
    "\n",
    "%load_ext autoreload\n",
    "%autoreload 2\n",
    "import utils"
   ]
  },
  {
   "cell_type": "code",
   "execution_count": null,
   "metadata": {},
   "outputs": [],
   "source": [
    "%load_ext watermark\n",
    "%watermark -i -v -p viresclient,pandas,xarray,matplotlib,cartopy"
   ]
  },
  {
   "cell_type": "markdown",
   "metadata": {},
   "source": [
    "# 1. Field intensity overview"
   ]
  },
  {
   "cell_type": "code",
   "execution_count": null,
   "metadata": {},
   "outputs": [],
   "source": [
    "# Identify recent 7-day time window to use\n",
    "today = dt.datetime.combine(dt.date.today(), dt.time())\n",
    "three_days_ago = today - dt.timedelta(days=3)\n",
    "ten_days_ago = today - dt.timedelta(days=10)\n",
    "start, end = ten_days_ago, three_days_ago\n",
    "start, end"
   ]
  },
  {
   "cell_type": "code",
   "execution_count": null,
   "metadata": {},
   "outputs": [],
   "source": [
    "# Fetch data\n",
    "request = SwarmRequest()\n",
    "request.set_collection(\"SW_OPER_MAGA_LR_1B\")\n",
    "request.set_products(\n",
    "    measurements=[\"F\"],\n",
    "    sampling_step=\"PT1M\"\n",
    ")\n",
    "data = request.get_between(start, end)\n",
    "ds = data.as_xarray()\n",
    "ds"
   ]
  },
  {
   "cell_type": "code",
   "execution_count": null,
   "metadata": {},
   "outputs": [],
   "source": [
    "# Build figure to plot onto\n",
    "fig = plt.figure(figsize=(10, 5))\n",
    "ax_Moll = plt.subplot2grid(\n",
    "    (1, 1), (0, 0), colspan=1,\n",
    "    projection=ccrs.Mollweide()\n",
    ")\n",
    "ax_Moll.add_feature(cfeature.COASTLINE, edgecolor='black', alpha=0.5)\n",
    "\n",
    "# Draw on the measurements\n",
    "ds.plot.scatter(\n",
    "    \"Longitude\", \"Latitude\", \"F\",\n",
    "    ax=ax_Moll, transform=ccrs.PlateCarree(),\n",
    "    s=10, alpha=0.4, marker=\".\",\n",
    "    cmap=\"jet\", norm=plt.Normalize(20e3, 50e3)\n",
    ")\n",
    "\n",
    "# Evaluate model and draw contours\n",
    "coords = utils.grid(height=430)\n",
    "IGRF = utils.eval_model(time=start,coords=coords)\n",
    "utils.plot_contours(\n",
    "    ax_Moll,\n",
    "    coords[..., 1], coords[..., 0], IGRF[\"F\"],\n",
    "    draw_labels=False, linewidths=2, levels=20, alpha=0.5,\n",
    "    cmap=\"jet\", norm=plt.Normalize(20e3, 50e3)\n",
    ")\n",
    "\n",
    "# Prepare descriptive text\n",
    "ID2NAME = {\"A\": \"ALPHA\", \"B\": \"BRAVO\", \"C\": \"CHARLIE\"}\n",
    "spacecraft = ID2NAME.get(ds['Spacecraft'].values[0])\n",
    "spacecraft = f\"SWARM {spacecraft}\"\n",
    "altitude = int(round((ds[\"Radius\"].values[0] - 6371200)/1e3, ndigits=-1))\n",
    "quantity = \"Magnetic field intensity (F) / nanoTesla\"\n",
    "sample_rate = \"1 Minute\"\n",
    "description = f\"\"\"\n",
    "Spacecraft:   {spacecraft} (~{altitude}km altitude)\n",
    "Time period:  {start.strftime('%Y-%m-%d')} to {(end-dt.timedelta(days=1)).strftime('%Y-%m-%d')}\n",
    "Quantity:     {quantity}\n",
    "Downsampling: {sample_rate}\n",
    "[ Dots: Measurements, Contours: Model ]\n",
    "\"\"\".strip()\n",
    "# Place text\n",
    "fig.text(0, 1.05, description, va=\"top\", fontfamily=\"monospace\", fontsize=12);"
   ]
  },
  {
   "cell_type": "markdown",
   "metadata": {},
   "source": [
    "# 2. Swarm Dst-like index (MMA Fast-track)"
   ]
  },
  {
   "cell_type": "code",
   "execution_count": null,
   "metadata": {},
   "outputs": [],
   "source": [
    "def fetch_zipped_file(url, file_name):\n",
    "    \"Fetch a given file from an online zip file\"\n",
    "    output_file = NamedTemporaryFile()\n",
    "    zip_file, _ = urllib.request.urlretrieve(url)\n",
    "    with zipfile.ZipFile(zip_file, 'r') as zip_ref:\n",
    "        with zip_ref.open(file_name) as f:\n",
    "            shutil.copyfileobj(f, output_file)\n",
    "            output_file.seek(0)\n",
    "    return output_file"
   ]
  },
  {
   "cell_type": "code",
   "execution_count": null,
   "metadata": {},
   "outputs": [],
   "source": [
    "mma_file_url = \"ftp://swarm-diss.eo.esa.int/Level2longterm/MMA/SW_OPER_MMA_SHA_2F_20200101T000000_20200427T223000_0108.ZIP\"\n",
    "mma_file_name = \"SW_OPER_MMA_SHA_2F_20200101T000000_20200427T223000_0108.cdf\"\n",
    "mma_file = fetch_zipped_file(mma_file_url, mma_file_name)"
   ]
  },
  {
   "cell_type": "code",
   "execution_count": null,
   "metadata": {},
   "outputs": [],
   "source": [
    "# from viresclient._data_handling import FileReader\n",
    "\n",
    "# with FileReader(mma_file) as mma_data:\n",
    "#     print(mma_data.as_pandas_dataframe())\n",
    "## (currently incompatible)"
   ]
  },
  {
   "cell_type": "code",
   "execution_count": null,
   "metadata": {},
   "outputs": [],
   "source": [
    "mma_data = cdflib.CDF(mma_file.name)\n",
    "mma_data.cdf_info()"
   ]
  },
  {
   "cell_type": "code",
   "execution_count": null,
   "metadata": {},
   "outputs": [],
   "source": [
    "CDF_EPOCH_1970 = 62167219200000.0\n",
    "\n",
    "time = mma_data.varget('t_gh')[0]\n",
    "gh10 = mma_data.varget('qs_geo')[:, :, 0][0]\n",
    "time, gh10"
   ]
  },
  {
   "cell_type": "code",
   "execution_count": null,
   "metadata": {},
   "outputs": [],
   "source": [
    "time = mma_data.varget('t_gh')[0]\n",
    "df_mma = pd.DataFrame.from_dict({\n",
    "    \"Timestamp\": pd.to_datetime((time - CDF_EPOCH_1970)/1e3, unit=\"s\"),\n",
    "    \"gh_10\": \n",
    "        mma_data.varget('gh_geo')[:, :, 0][0],\n",
    "    \"qs_10\":\n",
    "        mma_data.varget('qs_geo')[:, :, 0][0]\n",
    "}\n",
    ").set_index(\"Timestamp\")\n",
    "df_mma"
   ]
  },
  {
   "cell_type": "code",
   "execution_count": null,
   "metadata": {},
   "outputs": [],
   "source": [
    "fig, axes = plt.subplots(nrows=1, sharex=True)\n",
    "\n",
    "ax = axes\n",
    "\n",
    "def plot_month_week(df, ax):\n",
    "    df_month = df[(df.index[-1] - dt.timedelta(days=28)):]\n",
    "    df_week  = df[(df.index[-1] - dt.timedelta(days=7)):]\n",
    "    df_month.plot(color=\"grey\", ax=ax, legend=False)\n",
    "    df_week.plot(color=\"red\", ax=ax, legend=False)\n",
    "    ax.grid()\n",
    "    ax.set_ylabel(\"MMA_F q$^1_0$ [nT]\")\n",
    "\n",
    "plot_month_week(df_mma[\"qs_10\"], ax)\n",
    "# ax.xaxis.set_major_formatter(DateFormatter(\"%Y-%m-%d\"))"
   ]
  }
 ],
 "metadata": {
  "kernelspec": {
   "display_name": "Python 3",
   "language": "python",
   "name": "python3"
  },
  "language_info": {
   "codemirror_mode": {
    "name": "ipython",
    "version": 3
   },
   "file_extension": ".py",
   "mimetype": "text/x-python",
   "name": "python",
   "nbconvert_exporter": "python",
   "pygments_lexer": "ipython3",
   "version": "3.7.6"
  }
 },
 "nbformat": 4,
 "nbformat_minor": 4
}
