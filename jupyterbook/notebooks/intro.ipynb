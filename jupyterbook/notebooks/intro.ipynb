{
 "cells": [
  {
   "cell_type": "markdown",
   "id": "1e8bc04b-b57d-48c2-b643-559f0233d8c3",
   "metadata": {},
   "source": [
    "# Introduction"
   ]
  },
  {
   "cell_type": "code",
   "execution_count": null,
   "id": "921c133b-232a-4a6a-a61e-24ff50b576be",
   "metadata": {},
   "outputs": [],
   "source": [
    "%load_ext watermark\n",
    "%watermark -u -i"
   ]
  },
  {
   "cell_type": "markdown",
   "id": "4f890f4a-32fb-489d-9b69-0b72aa1ca0c5",
   "metadata": {},
   "source": [
    "These pages are generated from notebooks.\n",
    "\n",
    "They are run on an hourly schedule and you can retrieve previous runs at the following URLs:"
   ]
  },
  {
   "cell_type": "code",
   "execution_count": null,
   "id": "d33d5faf-0858-4d13-bca3-43e3b08f563b",
   "metadata": {
    "tags": [
     "hide-input"
    ]
   },
   "outputs": [],
   "source": [
    "import datetime as dt\n",
    "\n",
    "now = dt.datetime.now()\n",
    "timestamps = [(now - dt.timedelta(hours=x)).strftime(\"%Y-%m-%d-h%H\") for x in range(24)]\n",
    "root = \"https://{}--swarm-quicklooks.netlify.app\"\n",
    "for url in [root.format(t) for t in timestamps]:\n",
    "    print(url)"
   ]
  },
  {
   "cell_type": "markdown",
   "id": "3e843260-29dd-4ddc-b369-adc90f330418",
   "metadata": {},
   "source": [
    "## Tricks with notebook cells"
   ]
  },
  {
   "cell_type": "markdown",
   "id": "d4909d98-cf2a-4779-a803-b394592048b8",
   "metadata": {},
   "source": [
    "See https://jupyterbook.org/en/stable/interactive/hiding.html for more\n",
    "\n",
    "Cells can be hidden (both input and output):"
   ]
  },
  {
   "cell_type": "code",
   "execution_count": null,
   "id": "aaddd5b2-f0ff-4e81-b18d-c056841974d5",
   "metadata": {
    "tags": [
     "hide-cell"
    ]
   },
   "outputs": [],
   "source": [
    "!mamba run -n swarmpal-runner pip install hapiplot"
   ]
  },
  {
   "cell_type": "markdown",
   "id": "9a20975a-31a0-48c3-b662-8af7f5121b96",
   "metadata": {},
   "source": [
    "(In the hidden cell above, we installed hapiplot because it was missing. This will be moved into the docker image directly.)"
   ]
  },
  {
   "cell_type": "markdown",
   "id": "92c9e510-d733-4eb0-a42c-470dc20e7e94",
   "metadata": {},
   "source": [
    "We can display some of the main software versions used:"
   ]
  },
  {
   "cell_type": "code",
   "execution_count": null,
   "id": "233126d1-0702-4db3-a7e4-b2aaef2ff17f",
   "metadata": {},
   "outputs": [],
   "source": [
    "%watermark -v -p swarmpal,viresclient,hapiclient,hapiplot,cdflib,pandas,xarray,matplotlib,cartopy"
   ]
  },
  {
   "cell_type": "markdown",
   "id": "8161f44c-b635-4163-9085-a2fa5feee464",
   "metadata": {},
   "source": [
    "We can run some code (hiding the input, but showing the output):"
   ]
  },
  {
   "cell_type": "code",
   "execution_count": null,
   "id": "e152ca54-fa72-4feb-9727-9958bda6724b",
   "metadata": {
    "tags": [
     "hide-input"
    ]
   },
   "outputs": [],
   "source": [
    "import datetime as dt\n",
    "from hapiclient import hapi\n",
    "\n",
    "from hapiplot import hapiplot\n",
    "\n",
    "# # Current time, rounded to nearest minute\n",
    "# now = dt.datetime.now()\n",
    "# now = now - dt.timedelta(seconds=now.second, microseconds=now.microsecond)\n",
    "# # 24 hours earlier\n",
    "# past = now - dt.timedelta(hours=240)\n",
    "\n",
    "server     = 'https://vires.services/hapi'\n",
    "dataset    = 'SW_OPER_MAGA_LR_1B'\n",
    "parameters = 'B_NEC_res_Model'\n",
    "\n",
    "meta = hapi(server, dataset)\n",
    "latest_available = dt.datetime.fromisoformat(meta[\"stopDate\"])\n",
    "one_day_prior = latest_available - dt.timedelta(hours=24)\n",
    "\n",
    "start = one_day_prior.strftime(\"%Y-%m-%dT%H:%M:%S\")\n",
    "stop = latest_available.strftime(\"%Y-%m-%dT%H:%M:%S\")\n",
    "\n",
    "data, meta = hapi(server, dataset, parameters, start, stop)\n",
    "\n",
    "hapiplot(data, meta);"
   ]
  }
 ],
 "metadata": {
  "kernelspec": {
   "display_name": "Python [conda env:swarmpal-runner]",
   "language": "python",
   "name": "conda-env-swarmpal-runner-py"
  },
  "language_info": {
   "codemirror_mode": {
    "name": "ipython",
    "version": 3
   },
   "file_extension": ".py",
   "mimetype": "text/x-python",
   "name": "python",
   "nbconvert_exporter": "python",
   "pygments_lexer": "ipython3",
   "version": "3.11.6"
  }
 },
 "nbformat": 4,
 "nbformat_minor": 5
}
