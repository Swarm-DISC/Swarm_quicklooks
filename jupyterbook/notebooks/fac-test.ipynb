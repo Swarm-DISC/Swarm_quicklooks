{
 "cells": [
  {
   "cell_type": "markdown",
   "id": "98b9b886-806a-4849-a111-93b239e9d048",
   "metadata": {},
   "source": [
    "# Demo FAC on-demand quicklook"
   ]
  },
  {
   "cell_type": "markdown",
   "id": "5a806781-2caf-45b1-afb9-2a703d10644a",
   "metadata": {},
   "source": [
    "Using SwarmPAL implementation in development. See <https://swarmpal.readthedocs.io/en/latest/guides/fac/intro_fac.html>\n",
    "\n",
    "This example uses HAPI instead of the VirES API"
   ]
  },
  {
   "cell_type": "code",
   "execution_count": null,
   "id": "8f33ecc4-ed2c-4716-9c75-8f0363dd0a6e",
   "metadata": {},
   "outputs": [],
   "source": [
    "import datetime as dt\n",
    "from hapiclient import hapi\n",
    "import numpy as np\n",
    "from swarmpal.io import create_paldata, PalDataItem\n",
    "from swarmpal.toolboxes import fac"
   ]
  },
  {
   "cell_type": "code",
   "execution_count": null,
   "id": "7389ea1e-99b6-4cf0-a1a6-924fec7c13b7",
   "metadata": {},
   "outputs": [],
   "source": [
    "SERVER = \"https://vires.services/hapi\"\n",
    "DATASET = \"SW_OPER_MAGA_LR_1B\""
   ]
  },
  {
   "cell_type": "markdown",
   "id": "f62e9eda-970d-4914-95e5-ab077cf8ac6f",
   "metadata": {},
   "source": [
    "## Find latest available time"
   ]
  },
  {
   "cell_type": "code",
   "execution_count": null,
   "id": "c0b941f4-be41-4512-a258-0324c81a33a7",
   "metadata": {},
   "outputs": [],
   "source": [
    "meta = hapi(SERVER, DATASET)\n",
    "latest_available = dt.datetime.fromisoformat(meta[\"stopDate\"])\n",
    "latest_available"
   ]
  },
  {
   "cell_type": "markdown",
   "id": "95d3c6fc-81a0-471c-847c-3e7c7a9f409f",
   "metadata": {},
   "source": [
    "## Fetch latest available day"
   ]
  },
  {
   "cell_type": "code",
   "execution_count": null,
   "id": "1ee356f0-eb73-477a-8dac-bccd917645e5",
   "metadata": {},
   "outputs": [],
   "source": [
    "start = latest_available - dt.timedelta(days=1)\n",
    "stop = latest_available\n",
    "data = create_paldata(\n",
    "    PalDataItem.from_hapi(\n",
    "        server=SERVER,\n",
    "        dataset=DATASET,\n",
    "        parameters=\"Latitude,Longitude,Radius,B_NEC,B_NEC_Model\",\n",
    "        start=start.strftime(\"%Y-%m-%dT%H:%M:%S\"),\n",
    "        stop=stop.strftime(\"%Y-%m-%dT%H:%M:%S\"),\n",
    "    )\n",
    ")\n",
    "# Temporary fix to data labelling\n",
    "data = data.rename_dims(\n",
    "    {\"B_NEC_dim1\": \"NEC\", \"B_NEC_Model_dim1\": \"NEC\"}\n",
    ")\n",
    "print(data)"
   ]
  },
  {
   "cell_type": "markdown",
   "id": "005a67e2-b336-4ba7-809e-1d52726875d4",
   "metadata": {},
   "source": [
    "## Apply FAC algorithm"
   ]
  },
  {
   "cell_type": "code",
   "execution_count": null,
   "id": "f0c61a18-217d-4095-857b-778a7f2c2203",
   "metadata": {},
   "outputs": [],
   "source": [
    "process = fac.processes.FAC_singlesat(\n",
    "    config={\n",
    "        \"dataset\": DATASET,\n",
    "        \"model_varname\": \"B_NEC_Model\",\n",
    "        \"measurement_varname\": \"B_NEC\",\n",
    "    },\n",
    ")\n",
    "data.swarmpal.apply(process)\n",
    "print(data)"
   ]
  },
  {
   "cell_type": "code",
   "execution_count": null,
   "id": "490f093c-3129-497a-bc6a-d50893b9c43e",
   "metadata": {},
   "outputs": [],
   "source": [
    "data.swarmpal_fac.quicklook()"
   ]
  }
 ],
 "metadata": {
  "kernelspec": {
   "display_name": "Python [conda env:swarmpal-runner]",
   "language": "python",
   "name": "conda-env-swarmpal-runner-py"
  },
  "language_info": {
   "codemirror_mode": {
    "name": "ipython",
    "version": 3
   },
   "file_extension": ".py",
   "mimetype": "text/x-python",
   "name": "python",
   "nbconvert_exporter": "python",
   "pygments_lexer": "ipython3",
   "version": "3.11.6"
  }
 },
 "nbformat": 4,
 "nbformat_minor": 5
}
